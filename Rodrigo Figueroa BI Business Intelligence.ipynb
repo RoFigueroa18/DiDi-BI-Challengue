{
 "cells": [
  {
   "cell_type": "markdown",
   "metadata": {},
   "source": [
    "# 🌟 **DiDi Business Intelligence Challenge** 🌟"
   ]
  },
  {
   "cell_type": "markdown",
   "metadata": {},
   "source": [
    "### 📝Step 1: Load the CSV Files with Pandas\n",
    "- First, we load the datasets into Pandas DataFrames to be able to visualize and work with them. We have three CSV files: - 📁 restaurants_visitors.csv, - 📁 date_info.csv, and - 📁 store_info.csv."
   ]
  },
  {
   "cell_type": "code",
   "execution_count": 2,
   "metadata": {},
   "outputs": [
    {
     "name": "stdout",
     "output_type": "stream",
     "text": [
      "                 id  visit_date    visit_datetime  reserve_datetime  \\\n",
      "0  db80363d35f10926  2016-01-01  01/01/2016 00:00  01/01/2016 01:00   \n",
      "1  db80363d35f10926  2016-01-02  02/01/2016 01:00  01/01/2016 16:00   \n",
      "2  db80363d35f10926  2016-01-02  02/01/2016 01:00  01/01/2016 15:00   \n",
      "3  db80363d35f10926  2016-01-02  02/01/2016 18:00  02/01/2016 14:00   \n",
      "4  db80363d35f10926  2016-01-02  02/01/2016 18:00  02/01/2016 02:00   \n",
      "\n",
      "   reserve_visitors  \n",
      "0                 5  \n",
      "1                 2  \n",
      "2                 4  \n",
      "3                 2  \n",
      "4                 3  \n",
      "  calendar_date day_of_week  holiday_flg\n",
      "0    2016-01-01      Friday            1\n",
      "1    2016-01-02    Saturday            1\n",
      "2    2016-01-03      Sunday            1\n",
      "3    2016-01-04      Monday            0\n",
      "4    2016-01-05     Tuesday            0\n",
      "           store_id      genre_name                     area_name   latitude  \\\n",
      "0  0f0cdeee6c9bf3d7  Italian/French  Hyōgo-ken Kōbe-shi Kumoidōri  34.695124   \n",
      "1  7cc17a324ae5c7dc  Italian/French  Hyōgo-ken Kōbe-shi Kumoidōri  34.695124   \n",
      "2  fee8dcf4d619598e  Italian/French  Hyōgo-ken Kōbe-shi Kumoidōri  34.695124   \n",
      "3  a17f0778617c76e2  Italian/French  Hyōgo-ken Kōbe-shi Kumoidōri  34.695124   \n",
      "4  83db5aff8f50478e  Italian/French  Tōkyō-to Minato-ku Shibakōen  35.658068   \n",
      "\n",
      "    longitude  \n",
      "0  135.197853  \n",
      "1  135.197853  \n",
      "2  135.197853  \n",
      "3  135.197853  \n",
      "4  139.751599  \n"
     ]
    }
   ],
   "source": [
    "import pandas as pd\n",
    "\n",
    "# Cargar los datos de los archivos CSV\n",
    "restaurants_visitors_df = pd.read_csv('restaurants_visitors.csv')\n",
    "date_info_df = pd.read_csv('date_info.csv')\n",
    "store_info_df = pd.read_csv('store_info.csv')\n",
    "\n",
    "# Verificar las primeras filas de cada dataframe\n",
    "print(restaurants_visitors_df.head())\n",
    "print(date_info_df.head())\n",
    "print(store_info_df.head())\n"
   ]
  },
  {
   "cell_type": "markdown",
   "metadata": {},
   "source": [
    "- This code loads the data from the CSV files into three Pandas DataFrames: - 📁 restaurants_visitors_df, - 📁 date_info_df, and - 📁 store_info_df. \n",
    "- We then display the first few rows of each DataFrame to verify that they have been loaded correctly."
   ]
  },
  {
   "cell_type": "markdown",
   "metadata": {},
   "source": [
    "### 📝Step 2: Connect Pandas to SQLite\n",
    "- Next, we create an in-memory SQLite database using Pandas and load the DataFrames into it as tables.\n",
    "- This block of code establishes a connection to an in-memory SQLite database, and then loads the three Pandas DataFrames as tables within the database."
   ]
  },
  {
   "cell_type": "code",
   "execution_count": 3,
   "metadata": {},
   "outputs": [
    {
     "data": {
      "text/plain": [
       "829"
      ]
     },
     "execution_count": 3,
     "metadata": {},
     "output_type": "execute_result"
    }
   ],
   "source": [
    "import sqlite3\n",
    "\n",
    "# Conectar a una base de datos SQLite en memoria\n",
    "conn = sqlite3.connect(':memory:')\n",
    "\n",
    "# Cargar los dataframes en SQLite como tablas\n",
    "restaurants_visitors_df.to_sql('restaurants_visitors', conn, index=False, if_exists='replace')\n",
    "date_info_df.to_sql('date_info', conn, index=False, if_exists='replace')\n",
    "store_info_df.to_sql('store_info', conn, index=False, if_exists='replace')\n"
   ]
  },
  {
   "cell_type": "markdown",
   "metadata": {},
   "source": [
    "### 📝Step 3: SQL Queries with Pandas\n",
    "We can now perform SQL queries directly on this in-memory SQLite database using Pandas."
   ]
  },
  {
   "cell_type": "markdown",
   "metadata": {},
   "source": [
    "# 🌟 **Challengue 1** 🌟\n",
    "Write the SQL queries necessary to generate a list of the five restaurants that have the highest average number of visitors on holidays. The result table should also contain that average per restaurant."
   ]
  },
  {
   "cell_type": "code",
   "execution_count": 4,
   "metadata": {},
   "outputs": [
    {
     "name": "stdout",
     "output_type": "stream",
     "text": [
      "                 id  avg_visitors\n",
      "0  db80363d35f10926      7.275000\n",
      "1  bb09595bab7d5cfb      5.833333\n",
      "2  e053c561f32acc28      5.240000\n",
      "3  24b9b2a020826ede      4.333333\n",
      "4  42c9aa6d617c5057      4.228571\n"
     ]
    }
   ],
   "source": [
    "query = '''\n",
    "    SELECT rv.id, AVG(rv.reserve_visitors) as avg_visitors\n",
    "    FROM restaurants_visitors rv\n",
    "    JOIN date_info di ON rv.visit_date = di.calendar_date\n",
    "    WHERE di.holiday_flg = 1\n",
    "    GROUP BY rv.id\n",
    "    ORDER BY avg_visitors DESC\n",
    "    LIMIT 5;\n",
    "'''\n",
    "\n",
    "# Ejecutar la consulta\n",
    "top_restaurants = pd.read_sql_query(query, conn)\n",
    "print(top_restaurants)\n"
   ]
  },
  {
   "cell_type": "markdown",
   "metadata": {},
   "source": [
    "# Explanation:\n",
    " - Joining the Tables: Similar to the previous query, we join the restaurants_visitors table with date_info to associate visits with the day of the week.\n",
    " - Grouping by Day of the Week: We group the results by day_of_week from the date_info table, allowing us to calculate the average number of visitors for each day.\n",
    " - Calculating Average Visitors per Day: We use AVG(rv.reserve_visitors) to find the average number of visitors per day.\n",
    " - Sorting and Limiting: We order the results by average visitors in descending order and limit the output to the day with the highest average (LIMIT 1)."
   ]
  },
  {
   "cell_type": "markdown",
   "metadata": {},
   "source": [
    "# 🌟 **Challengue 2** 🌟\n",
    "- Use SQL to discover which day of the week there are usually more visitors on average in restaurants."
   ]
  },
  {
   "cell_type": "markdown",
   "metadata": {},
   "source": [
    "### 📝Step 4: Finding the Day of the Week with the Highest Average Visitors\n",
    "- Now let’s solve point 2, which asks for the day of the week that generally has the most visitors on average."
   ]
  },
  {
   "cell_type": "code",
   "execution_count": 5,
   "metadata": {},
   "outputs": [
    {
     "name": "stdout",
     "output_type": "stream",
     "text": [
      "                 id  visit_date    visit_datetime  reserve_datetime  \\\n",
      "0  db80363d35f10926  2016-01-01  01/01/2016 00:00  01/01/2016 01:00   \n",
      "1  db80363d35f10926  2016-01-02  02/01/2016 01:00  01/01/2016 16:00   \n",
      "2  db80363d35f10926  2016-01-02  02/01/2016 01:00  01/01/2016 15:00   \n",
      "3  db80363d35f10926  2016-01-02  02/01/2016 18:00  02/01/2016 14:00   \n",
      "4  db80363d35f10926  2016-01-02  02/01/2016 18:00  02/01/2016 02:00   \n",
      "\n",
      "   reserve_visitors  \n",
      "0                 5  \n",
      "1                 2  \n",
      "2                 4  \n",
      "3                 2  \n",
      "4                 3  \n",
      "  calendar_date day_of_week  holiday_flg\n",
      "0    2016-01-01      Friday            1\n",
      "1    2016-01-02    Saturday            1\n",
      "2    2016-01-03      Sunday            1\n",
      "3    2016-01-04      Monday            0\n",
      "4    2016-01-05     Tuesday            0\n"
     ]
    }
   ],
   "source": [
    "# Revisar los datos de los archivos\n",
    "print(restaurants_visitors_df.head())\n",
    "print(date_info_df.head())\n"
   ]
  },
  {
   "cell_type": "code",
   "execution_count": 6,
   "metadata": {},
   "outputs": [
    {
     "data": {
      "text/html": [
       "<div>\n",
       "<style scoped>\n",
       "    .dataframe tbody tr th:only-of-type {\n",
       "        vertical-align: middle;\n",
       "    }\n",
       "\n",
       "    .dataframe tbody tr th {\n",
       "        vertical-align: top;\n",
       "    }\n",
       "\n",
       "    .dataframe thead th {\n",
       "        text-align: right;\n",
       "    }\n",
       "</style>\n",
       "<table border=\"1\" class=\"dataframe\">\n",
       "  <thead>\n",
       "    <tr style=\"text-align: right;\">\n",
       "      <th></th>\n",
       "      <th>id</th>\n",
       "      <th>avg_visitors</th>\n",
       "    </tr>\n",
       "  </thead>\n",
       "  <tbody>\n",
       "    <tr>\n",
       "      <th>0</th>\n",
       "      <td>db80363d35f10926</td>\n",
       "      <td>7.275000</td>\n",
       "    </tr>\n",
       "    <tr>\n",
       "      <th>1</th>\n",
       "      <td>bb09595bab7d5cfb</td>\n",
       "      <td>5.833333</td>\n",
       "    </tr>\n",
       "    <tr>\n",
       "      <th>2</th>\n",
       "      <td>e053c561f32acc28</td>\n",
       "      <td>5.240000</td>\n",
       "    </tr>\n",
       "    <tr>\n",
       "      <th>3</th>\n",
       "      <td>24b9b2a020826ede</td>\n",
       "      <td>4.333333</td>\n",
       "    </tr>\n",
       "    <tr>\n",
       "      <th>4</th>\n",
       "      <td>42c9aa6d617c5057</td>\n",
       "      <td>4.228571</td>\n",
       "    </tr>\n",
       "  </tbody>\n",
       "</table>\n",
       "</div>"
      ],
      "text/plain": [
       "                 id  avg_visitors\n",
       "0  db80363d35f10926      7.275000\n",
       "1  bb09595bab7d5cfb      5.833333\n",
       "2  e053c561f32acc28      5.240000\n",
       "3  24b9b2a020826ede      4.333333\n",
       "4  42c9aa6d617c5057      4.228571"
      ]
     },
     "execution_count": 6,
     "metadata": {},
     "output_type": "execute_result"
    }
   ],
   "source": [
    "# Consulta SQL para obtener los cinco restaurantes con mayor promedio de visitantes en días festivos\n",
    "query = '''\n",
    "    SELECT rv.id, AVG(rv.reserve_visitors) as avg_visitors\n",
    "    FROM restaurants_visitors rv\n",
    "    JOIN date_info di ON rv.visit_date = di.calendar_date\n",
    "    WHERE di.holiday_flg = 1\n",
    "    GROUP BY rv.id\n",
    "    ORDER BY avg_visitors DESC\n",
    "    LIMIT 5;\n",
    "'''\n",
    "\n",
    "# Ejecutar la consulta\n",
    "top_restaurants = pd.read_sql_query(query, conn)\n",
    "\n",
    "# Mostrar los resultados\n",
    "top_restaurants\n"
   ]
  },
  {
   "cell_type": "code",
   "execution_count": 7,
   "metadata": {},
   "outputs": [
    {
     "data": {
      "text/html": [
       "<div>\n",
       "<style scoped>\n",
       "    .dataframe tbody tr th:only-of-type {\n",
       "        vertical-align: middle;\n",
       "    }\n",
       "\n",
       "    .dataframe tbody tr th {\n",
       "        vertical-align: top;\n",
       "    }\n",
       "\n",
       "    .dataframe thead th {\n",
       "        text-align: right;\n",
       "    }\n",
       "</style>\n",
       "<table border=\"1\" class=\"dataframe\">\n",
       "  <thead>\n",
       "    <tr style=\"text-align: right;\">\n",
       "      <th></th>\n",
       "      <th>day_of_week</th>\n",
       "      <th>avg_visitors</th>\n",
       "    </tr>\n",
       "  </thead>\n",
       "  <tbody>\n",
       "    <tr>\n",
       "      <th>0</th>\n",
       "      <td>Friday</td>\n",
       "      <td>4.454754</td>\n",
       "    </tr>\n",
       "  </tbody>\n",
       "</table>\n",
       "</div>"
      ],
      "text/plain": [
       "  day_of_week  avg_visitors\n",
       "0      Friday      4.454754"
      ]
     },
     "execution_count": 7,
     "metadata": {},
     "output_type": "execute_result"
    }
   ],
   "source": [
    "# Consulta SQL para obtener el día de la semana con más visitantes en promedio\n",
    "query = '''\n",
    "    SELECT di.day_of_week, AVG(rv.reserve_visitors) as avg_visitors\n",
    "    FROM restaurants_visitors rv\n",
    "    JOIN date_info di ON rv.visit_date = di.calendar_date\n",
    "    GROUP BY di.day_of_week\n",
    "    ORDER BY avg_visitors DESC\n",
    "    LIMIT 1;\n",
    "'''\n",
    "\n",
    "# Ejecutar la consulta\n",
    "busiest_day = pd.read_sql_query(query, conn)\n",
    "\n",
    "# Mostrar los resultados\n",
    "busiest_day\n"
   ]
  },
  {
   "cell_type": "markdown",
   "metadata": {},
   "source": [
    "# Explanation:\n",
    " - Joining the Tables: Similar to the previous query, we join the restaurants_visitors table with date_info to associate visits with the day of the week.\n",
    " - Grouping by Day of the Week: We group the results by day_of_week from the date_info table, allowing us to calculate the average number of visitors for each day.\n",
    " - Calculating Average Visitors per Day: We use AVG(rv.reserve_visitors) to find the average number of visitors per day.\n",
    " - Sorting and Limiting: We order the results by average visitors in descending order and limit the output to the day with the highest average (LIMIT 1)."
   ]
  },
  {
   "cell_type": "markdown",
   "metadata": {},
   "source": [
    "# 🌟 **Challengue 3** 🌟\n",
    "How was the percentage of growth of the amount of visitors week over week for the last four weeks of the data? Use SQL too."
   ]
  },
  {
   "cell_type": "markdown",
   "metadata": {},
   "source": [
    "### 📝Step 5: Calculating Week-over-Week Growth in Visitor Numbers (Last Four Weeks)\n",
    "For point 3, we need to calculate the week-over-week growth of restaurant visitors for the last four weeks of the data."
   ]
  },
  {
   "cell_type": "code",
   "execution_count": 8,
   "metadata": {},
   "outputs": [
    {
     "data": {
      "text/html": [
       "<div>\n",
       "<style scoped>\n",
       "    .dataframe tbody tr th:only-of-type {\n",
       "        vertical-align: middle;\n",
       "    }\n",
       "\n",
       "    .dataframe tbody tr th {\n",
       "        vertical-align: top;\n",
       "    }\n",
       "\n",
       "    .dataframe thead th {\n",
       "        text-align: right;\n",
       "    }\n",
       "</style>\n",
       "<table border=\"1\" class=\"dataframe\">\n",
       "  <thead>\n",
       "    <tr style=\"text-align: right;\">\n",
       "      <th></th>\n",
       "      <th>week_of_year</th>\n",
       "      <th>total_visitors</th>\n",
       "      <th>prev_week_visitors</th>\n",
       "      <th>growth_percentage</th>\n",
       "    </tr>\n",
       "  </thead>\n",
       "  <tbody>\n",
       "    <tr>\n",
       "      <th>0</th>\n",
       "      <td>2017-19</td>\n",
       "      <td>170</td>\n",
       "      <td>NaN</td>\n",
       "      <td>NaN</td>\n",
       "    </tr>\n",
       "    <tr>\n",
       "      <th>1</th>\n",
       "      <td>2017-20</td>\n",
       "      <td>78</td>\n",
       "      <td>170.0</td>\n",
       "      <td>-54.117647</td>\n",
       "    </tr>\n",
       "    <tr>\n",
       "      <th>2</th>\n",
       "      <td>2017-21</td>\n",
       "      <td>63</td>\n",
       "      <td>78.0</td>\n",
       "      <td>-19.230769</td>\n",
       "    </tr>\n",
       "    <tr>\n",
       "      <th>3</th>\n",
       "      <td>2017-22</td>\n",
       "      <td>11</td>\n",
       "      <td>63.0</td>\n",
       "      <td>-82.539683</td>\n",
       "    </tr>\n",
       "  </tbody>\n",
       "</table>\n",
       "</div>"
      ],
      "text/plain": [
       "  week_of_year  total_visitors  prev_week_visitors  growth_percentage\n",
       "0      2017-19             170                 NaN                NaN\n",
       "1      2017-20              78               170.0         -54.117647\n",
       "2      2017-21              63                78.0         -19.230769\n",
       "3      2017-22              11                63.0         -82.539683"
      ]
     },
     "execution_count": 8,
     "metadata": {},
     "output_type": "execute_result"
    }
   ],
   "source": [
    "# Agregar una columna para extraer la semana del año de la columna visit_date\n",
    "query = '''\n",
    "    WITH weekly_visitors AS (\n",
    "        SELECT STRFTIME('%Y-%W', rv.visit_date) AS week_of_year, \n",
    "               SUM(rv.reserve_visitors) AS total_visitors\n",
    "        FROM restaurants_visitors rv\n",
    "        GROUP BY week_of_year\n",
    "        ORDER BY week_of_year DESC\n",
    "        LIMIT 4\n",
    "    )\n",
    "    SELECT week_of_year, \n",
    "           total_visitors, \n",
    "           LAG(total_visitors) OVER (ORDER BY week_of_year) AS prev_week_visitors,\n",
    "           ((total_visitors - LAG(total_visitors) OVER (ORDER BY week_of_year)) * 100.0 / LAG(total_visitors) OVER (ORDER BY week_of_year)) AS growth_percentage\n",
    "    FROM weekly_visitors;\n",
    "'''\n",
    "\n",
    "# Ejecutar la consulta\n",
    "weekly_growth = pd.read_sql_query(query, conn)\n",
    "\n",
    "# Mostrar los resultados\n",
    "weekly_growth\n"
   ]
  },
  {
   "cell_type": "markdown",
   "metadata": {},
   "source": [
    "# Explanation:\n",
    " - Extracting the Week from the Date: We use STRFTIME('%Y-%W', rv.visit_date) to extract the week of the year from the visit_date, allowing us to group the data by week.\n",
    " - Summing Visitors by Week: We use SUM(rv.reserve_visitors) to calculate the total number of visitors for each week.\n",
    " - Calculating Week-over-Week Growth: Using the LAG() function, we access the total number of visitors from the previous week and calculate the percentage growth.\n",
    " - Ordering and Limiting Results: We limit the query to the last four weeks of data and order the results chronologically."
   ]
  },
  {
   "cell_type": "code",
   "execution_count": 11,
   "metadata": {},
   "outputs": [
    {
     "name": "stdout",
     "output_type": "stream",
     "text": [
      "['2016-01-01' '2016-01-02' '2016-01-03' '2016-01-04' '2016-01-06'\n",
      " '2016-01-07' '2016-01-08' '2016-01-09' '2016-01-10' '2016-01-11'\n",
      " '2016-01-12' '2016-01-13' '2016-01-14' '2016-01-15' '2016-01-16'\n",
      " '2016-01-17' '2016-01-18' '2016-01-19' '2016-01-20' '2016-01-21'\n",
      " '2016-01-22' '2016-01-23' '2016-01-24' '2016-01-25' '2016-01-26'\n",
      " '2016-01-27' '2016-01-28' '2016-01-29' '2016-01-30' '2016-01-31'\n",
      " '2016-02-01' '2016-02-03' '2016-02-04' '2016-02-05' '2016-02-06'\n",
      " '2016-02-07' '2016-02-08' '2016-02-09' '2016-02-10' '2016-02-11'\n",
      " '2016-02-12' '2016-02-13' '2016-02-14' '2016-02-15' '2016-02-16'\n",
      " '2016-02-17' '2016-02-18' '2016-02-19' '2016-02-20' '2016-02-21'\n",
      " '2016-02-22' '2016-02-23' '2016-02-24' '2016-02-25' '2016-02-26'\n",
      " '2016-02-27' '2016-02-28' '2016-02-29' '2016-03-02' '2016-03-03'\n",
      " '2016-03-04' '2016-03-05' '2016-03-06' '2016-03-07' '2016-03-08'\n",
      " '2016-03-09' '2016-03-10' '2016-03-11' '2016-03-12' '2016-03-13'\n",
      " '2016-03-14' '2016-03-15' '2016-03-16' '2016-03-17' '2016-03-18'\n",
      " '2016-03-19' '2016-03-20' '2016-03-21' '2016-03-22' '2016-03-23'\n",
      " '2016-03-24' '2016-03-25' '2016-03-26' '2016-03-27' '2016-03-28'\n",
      " '2016-03-29' '2016-03-30' '2016-03-31' '2016-04-01' '2016-04-02'\n",
      " '2016-04-03' '2016-04-04' '2016-04-05' '2016-04-06' '2016-04-07'\n",
      " '2016-04-08' '2016-04-09' '2016-04-10' '2016-04-11' '2016-04-12'\n",
      " '2016-04-13' '2016-04-14' '2016-04-15' '2016-04-16' '2016-04-17'\n",
      " '2016-04-18' '2016-04-19' '2016-04-20' '2016-04-21' '2016-04-22'\n",
      " '2016-04-23' '2016-04-24' '2016-04-25' '2016-04-26' '2016-04-27'\n",
      " '2016-04-28' '2016-04-29' '2016-04-30' '2016-05-01' '2016-05-02'\n",
      " '2016-05-03' '2016-05-04' '2016-05-05' '2016-05-06' '2016-05-07'\n",
      " '2016-05-08' '2016-05-10' '2016-05-11' '2016-05-12' '2016-05-13'\n",
      " '2016-05-14' '2016-05-15' '2016-05-17' '2016-05-18' '2016-05-19'\n",
      " '2016-05-20' '2016-05-21' '2016-05-22' '2016-05-23' '2016-05-24'\n",
      " '2016-05-25' '2016-05-26' '2016-05-27' '2016-05-28' '2016-05-29'\n",
      " '2016-05-30' '2016-05-31' '2016-06-01' '2016-06-02' '2016-06-03'\n",
      " '2016-06-04' '2016-06-05' '2016-06-06' '2016-06-07' '2016-06-08'\n",
      " '2016-06-09' '2016-06-10' '2016-06-11' '2016-06-12' '2016-06-13'\n",
      " '2016-06-14' '2016-06-15' '2016-06-16' '2016-06-17' '2016-06-18'\n",
      " '2016-06-19' '2016-06-20' '2016-06-21' '2016-06-22' '2016-06-23'\n",
      " '2016-06-24' '2016-06-25' '2016-06-26' '2016-06-27' '2016-06-28'\n",
      " '2016-06-29' '2016-06-30' '2016-07-01' '2016-07-02' '2016-07-03'\n",
      " '2016-07-04' '2016-07-05' '2016-07-06' '2016-07-07' '2016-07-08'\n",
      " '2016-07-09' '2016-07-10' '2016-07-11' '2016-07-12' '2016-07-13'\n",
      " '2016-07-14' '2016-07-15' '2016-07-16' '2016-07-17' '2016-07-18'\n",
      " '2016-07-19' '2016-07-20' '2016-07-21' '2016-07-22' '2016-07-23'\n",
      " '2016-07-25' '2016-07-26' '2016-09-12' '#VALUE!' '2017-01-01'\n",
      " '2017-01-02' '2017-01-03' '2017-01-04' '2017-01-05' '2017-01-06'\n",
      " '2017-01-07' '2017-01-08' '2017-01-09' '2017-01-10' '2017-01-11'\n",
      " '2017-01-12' '2017-01-13' '2017-01-14' '2017-01-15' '2017-01-16'\n",
      " '2017-01-17' '2017-01-18' '2017-01-19' '2017-01-20' '2017-01-21'\n",
      " '2017-01-22' '2017-01-23' '2017-01-24' '2017-01-25' '2017-01-26'\n",
      " '2017-01-27' '2017-01-28' '2017-01-29' '2017-01-30' '2017-01-31'\n",
      " '2017-02-01' '2017-02-02' '2017-02-03' '2017-02-04' '2017-02-05'\n",
      " '2017-02-06' '2017-02-07' '2017-02-08' '2017-02-09' '2017-02-10'\n",
      " '2017-02-11' '2017-02-12' '2017-02-13' '2017-02-14' '2017-02-15'\n",
      " '2017-02-16' '2017-02-17' '2017-02-18' '2017-02-19' '2017-02-20'\n",
      " '2017-02-21' '2017-02-22' '2017-02-23' '2017-02-24' '2017-02-25'\n",
      " '2017-02-26' '2017-02-27' '2017-02-28' '2017-03-01' '2017-03-02'\n",
      " '2017-03-03' '2017-03-04' '2017-03-05' '2017-03-06' '2017-03-07'\n",
      " '2017-03-08' '2017-03-09' '2017-03-10' '2017-03-11' '2017-03-12'\n",
      " '2017-03-13' '2017-03-14' '2017-03-15' '2017-03-16' '2017-03-17'\n",
      " '2017-03-18' '2017-03-19' '2017-03-20' '2017-03-21' '2017-03-22'\n",
      " '2017-03-23' '2017-03-24' '2017-03-25' '2017-03-26' '2017-03-27'\n",
      " '2017-03-28' '2017-03-29' '2017-03-30' '2017-03-31' '2017-04-01'\n",
      " '2017-04-02' '2017-04-03' '2017-04-04' '2017-04-05' '2017-04-06'\n",
      " '2017-04-07' '2017-04-08' '2017-04-09' '2017-04-10' '2017-04-11'\n",
      " '2017-04-12' '2017-04-13' '2017-04-14' '2017-04-15' '2017-04-16'\n",
      " '2017-04-17' '2017-04-18' '2017-04-19' '2017-04-20' '2017-04-21'\n",
      " '2017-04-22' '2017-04-23' '2017-04-24' '2017-04-25' '2017-04-26'\n",
      " '2017-04-27' '2017-04-28' '2017-04-29' '2017-04-30' '2017-05-01'\n",
      " '2017-05-02' '2017-05-03' '2017-05-04' '2017-05-05' '2017-05-06'\n",
      " '2017-05-07' '2017-05-08' '2017-05-09' '2017-05-10' '2017-05-11'\n",
      " '2017-05-12' '2017-05-13' '2017-05-14' '2017-05-15' '2017-05-16'\n",
      " '2017-05-17' '2017-05-18' '2017-05-19' '2017-05-20' '2017-05-21'\n",
      " '2017-05-22' '2017-05-24' '2017-05-26' '2017-05-27' '2017-05-28'\n",
      " '2017-05-30' '2017-05-31']\n"
     ]
    }
   ],
   "source": [
    "# Revisar los valores únicos de la columna visit_date\n",
    "unique_dates = restaurants_visitors_df['visit_date'].unique()\n",
    "print(unique_dates)\n"
   ]
  },
  {
   "cell_type": "code",
   "execution_count": 12,
   "metadata": {},
   "outputs": [
    {
     "name": "stdout",
     "output_type": "stream",
     "text": [
      "                    id visit_date    visit_datetime  reserve_datetime  \\\n",
      "1567  965b2e0cf4119003        NaT  26/10/2016 20:00  25/10/2016 17:00   \n",
      "1568  42c9aa6d617c5057        NaT  27/10/2016 11:00  26/10/2016 13:00   \n",
      "1569  45326ebb8dc72cfb        NaT  27/10/2016 11:00  26/10/2016 21:00   \n",
      "1570  45326ebb8dc72cfb        NaT  27/10/2016 11:00  26/10/2016 21:00   \n",
      "1571  0a74a5408a0b8642        NaT  27/10/2016 17:00  27/10/2016 14:00   \n",
      "...                ...        ...               ...               ...   \n",
      "5448  324f7c39a8410e7c        NaT  31/12/2016 20:00  29/12/2016 19:00   \n",
      "5449  324f7c39a8410e7c        NaT  31/12/2016 20:00  27/11/2016 18:00   \n",
      "5450  324f7c39a8410e7c        NaT  31/12/2016 20:00  30/12/2016 18:00   \n",
      "5451  db80363d35f10926        NaT  31/12/2016 21:00  09/12/2016 20:00   \n",
      "5452  db80363d35f10926        NaT  31/12/2016 23:00  28/12/2016 10:00   \n",
      "\n",
      "      reserve_visitors  \n",
      "1567                 5  \n",
      "1568                 5  \n",
      "1569                 1  \n",
      "1570                 1  \n",
      "1571                 2  \n",
      "...                ...  \n",
      "5448                 4  \n",
      "5449                 2  \n",
      "5450                 7  \n",
      "5451                 7  \n",
      "5452                 2  \n",
      "\n",
      "[3886 rows x 5 columns]\n"
     ]
    }
   ],
   "source": [
    "# Intentar convertir las fechas, ignorando los errores\n",
    "restaurants_visitors_df['visit_date'] = pd.to_datetime(restaurants_visitors_df['visit_date'], errors='coerce')\n",
    "\n",
    "# Revisar las filas con valores NaT (errores en la conversión)\n",
    "invalid_dates = restaurants_visitors_df[restaurants_visitors_df['visit_date'].isna()]\n",
    "print(invalid_dates)\n"
   ]
  },
  {
   "cell_type": "code",
   "execution_count": 13,
   "metadata": {},
   "outputs": [],
   "source": [
    "# Eliminar las filas con fechas no válidas\n",
    "restaurants_visitors_df = restaurants_visitors_df.dropna(subset=['visit_date'])\n"
   ]
  },
  {
   "cell_type": "markdown",
   "metadata": {},
   "source": [
    "# 🌟 **Challengue 4** 🌟\n",
    " Forecast for the next six months, after the last date of the data, the sum of visitors of all the restaurants and validate the accuracy of your forecast. You can solve this question using the tool that you prefer."
   ]
  },
  {
   "cell_type": "markdown",
   "metadata": {},
   "source": [
    "### 📝 Step 6: Forecasting Visitor Numbers for the Next Six Months\n",
    " For point 4, we need to forecast the total number of restaurant visitors for the next six months based on the historical data.\n",
    "\n",
    "### 📝 Step 6.1: Data Preparation\n",
    " First, we need to ensure that the date column is in the correct format and then group the data by date to get the total visitors per day."
   ]
  },
  {
   "cell_type": "code",
   "execution_count": 14,
   "metadata": {},
   "outputs": [
    {
     "data": {
      "text/html": [
       "<div>\n",
       "<style scoped>\n",
       "    .dataframe tbody tr th:only-of-type {\n",
       "        vertical-align: middle;\n",
       "    }\n",
       "\n",
       "    .dataframe tbody tr th {\n",
       "        vertical-align: top;\n",
       "    }\n",
       "\n",
       "    .dataframe thead th {\n",
       "        text-align: right;\n",
       "    }\n",
       "</style>\n",
       "<table border=\"1\" class=\"dataframe\">\n",
       "  <thead>\n",
       "    <tr style=\"text-align: right;\">\n",
       "      <th></th>\n",
       "      <th>visit_date</th>\n",
       "      <th>reserve_visitors</th>\n",
       "    </tr>\n",
       "  </thead>\n",
       "  <tbody>\n",
       "    <tr>\n",
       "      <th>0</th>\n",
       "      <td>2016-01-01</td>\n",
       "      <td>5</td>\n",
       "    </tr>\n",
       "    <tr>\n",
       "      <th>1</th>\n",
       "      <td>2016-01-02</td>\n",
       "      <td>34</td>\n",
       "    </tr>\n",
       "    <tr>\n",
       "      <th>2</th>\n",
       "      <td>2016-01-03</td>\n",
       "      <td>17</td>\n",
       "    </tr>\n",
       "    <tr>\n",
       "      <th>3</th>\n",
       "      <td>2016-01-04</td>\n",
       "      <td>7</td>\n",
       "    </tr>\n",
       "    <tr>\n",
       "      <th>4</th>\n",
       "      <td>2016-01-06</td>\n",
       "      <td>19</td>\n",
       "    </tr>\n",
       "  </tbody>\n",
       "</table>\n",
       "</div>"
      ],
      "text/plain": [
       "  visit_date  reserve_visitors\n",
       "0 2016-01-01                 5\n",
       "1 2016-01-02                34\n",
       "2 2016-01-03                17\n",
       "3 2016-01-04                 7\n",
       "4 2016-01-06                19"
      ]
     },
     "execution_count": 14,
     "metadata": {},
     "output_type": "execute_result"
    }
   ],
   "source": [
    "# Importar las librerías necesarias\n",
    "import pandas as pd\n",
    "from statsmodels.tsa.api import SimpleExpSmoothing\n",
    "import matplotlib.pyplot as plt\n",
    "\n",
    "# Asegurarnos de que la columna 'visit_date' esté en formato de fecha\n",
    "restaurants_visitors_df['visit_date'] = pd.to_datetime(restaurants_visitors_df['visit_date'])\n",
    "\n",
    "# Agrupar por fecha para obtener el total de visitantes por día\n",
    "daily_visitors = restaurants_visitors_df.groupby('visit_date')['reserve_visitors'].sum().reset_index()\n",
    "\n",
    "# Mostrar las primeras filas\n",
    "daily_visitors.head()\n"
   ]
  },
  {
   "cell_type": "markdown",
   "metadata": {},
   "source": [
    "# Explanation:\n",
    " - Grouping by Date: We group the visitor data by visit_date to get the total number of visitors for each day.\n",
    " - Exponential Smoothing Model: We use SimpleExpSmoothing from statsmodels to create a forecast based on the historical data.\n",
    " - Forecasting for Six Months: We forecast the number of visitors for the next 180 days (approximately six months).\n",
    " - Visualization: We plot both the historical data and the forecast to visualize the projected trend."
   ]
  },
  {
   "cell_type": "code",
   "execution_count": 15,
   "metadata": {},
   "outputs": [
    {
     "data": {
      "image/png": "[encoded data removed]",
      "text/plain": [
       "<Figure size 1000x600 with 1 Axes>"
      ]
     },
     "metadata": {},
     "output_type": "display_data"
    }
   ],
   "source": [
    "from statsmodels.tsa.api import SimpleExpSmoothing\n",
    "\n",
    "# Usar suavizamiento exponencial simple para hacer la proyección\n",
    "model = SimpleExpSmoothing(daily_visitors['reserve_visitors']).fit()\n",
    "\n",
    "# Hacer la proyección para los próximos 180 días (aproximadamente 6 meses)\n",
    "forecast = model.forecast(180)\n",
    "\n",
    "# Crear un dataframe con las fechas proyectadas\n",
    "forecast_dates = pd.date_range(start=daily_visitors['visit_date'].max(), periods=180, freq='D')\n",
    "forecast_df = pd.DataFrame({'forecast_date': forecast_dates, 'forecast_visitors': forecast})\n",
    "\n",
    "# Graficar la serie de tiempo original y la proyección\n",
    "plt.figure(figsize=(10, 6))\n",
    "plt.plot(daily_visitors['visit_date'], daily_visitors['reserve_visitors'], label='Datos históricos')\n",
    "plt.plot(forecast_df['forecast_date'], forecast_df['forecast_visitors'], label='Proyección')\n",
    "plt.title('Proyección de visitantes para los próximos 6 meses')\n",
    "plt.xlabel('Fecha')\n",
    "plt.ylabel('Número de visitantes')\n",
    "plt.legend()\n",
    "plt.show()\n"
   ]
  },
  {
   "cell_type": "markdown",
   "metadata": {},
   "source": [
    "# 🌟 **Challengue 5** 🌟\n",
    " Based on the data and your ideas, plan strategies to double the total restaurant visitors in six months."
   ]
  },
  {
   "cell_type": "markdown",
   "metadata": {},
   "source": [
    "1.  Dynamic Offers on Holidays and Weekends\n",
    "- Data shows that holidays and weekends have higher visitor traffic. We could implement a dynamic pricing system or promotions on these days to attract even more people. Example: \"Happy Hour\" offers or 20% discounts for advance reservations on high-demand days.\n",
    "\n",
    " Dynamic Offers on Holidays and Weekends\n",
    "- KPIs: Average visitors on weekends/holidays, conversion rate of promotions, revenue growth.\n",
    "- Pre-Strategy Baseline: Calculate the current average number of visitors on weekends and holidays from the historical data.\n",
    "- Post-Strategy Impact: Track the increase in visitors and compare it with the baseline. Use metrics like percentage increase in visitors, and track the conversion rate of specific offers."
   ]
  },
  {
   "cell_type": "markdown",
   "metadata": {},
   "source": [
    "2. Personalization Based on Restaurant Type\n",
    "- Using the genre_name column, we can create targeted campaigns for each type of restaurant. For example, fast-food restaurants could offer family combos on weekends, while gourmet restaurants   could host exclusive experiences with guest chefs or special menus on holidays.\n",
    "\n",
    " Personalization Based on Restaurant Type\n",
    "- KPIs: Visitor growth per restaurant genre, customer satisfaction, average spend per customer.\n",
    "- Pre-Strategy Baseline: Calculate the average number of visitors per restaurant type (from genre_name) and their average spend.\n",
    "- Post-Strategy Impact: Measure the change in visitor count and average spend after personalized promotions are launched. Compare the impact across different genres to understand which types benefit the most from personalization."
   ]
  },
  {
   "cell_type": "markdown",
   "metadata": {},
   "source": [
    "3.  Geolocated Campaigns with Local Collaborations\n",
    "- Leveraging the area_name data, we could launch geolocated campaigns in collaboration with local events or nearby attractions. Cross-promotions, like restaurant discounts for attending a nearby sports or cultural event, could significantly increase visitor flow.\n",
    "\n",
    "- These three strategies aim to maximize the impact of high-potential days while leveraging the diversity of restaurant types and geographic areas.\n",
    "\n",
    " Geolocated Campaigns with Local Collaborations\n",
    "- KPIs: Visitor growth in targeted areas, collaboration-driven foot traffic, offer redemption rate.\n",
    "- Pre-Strategy Baseline: Use the area_name data to determine the current average number of visitors in restaurants within a given location.\n",
    "- Post-Strategy Impact: Measure visitor increase in restaurants located near events or attractions. Track the success rate of collaborative offers, like the number of people who redeemed discounts for attending nearby events.\n",
    "\n",
    " Control Group Analysis\n",
    "- Control Groups: To accurately measure the effectiveness, maintain control groups where the strategies are not applied. Compare the results in terms of visitor growth and revenue between restaurants that received the new strategies and those that didn't.\n",
    "\n",
    " Time Series Analysis\n",
    "- Time Series: Conduct a time series analysis before and after the strategies are implemented to visualize visitor trends and forecast potential future impacts."
   ]
  },
  {
   "cell_type": "markdown",
   "metadata": {},
   "source": [
    "# 🌟 **Challengue 6** 🌟\n",
    " Imagine that these restaurants are in your city (and not in Japan), what other data would you want to join in order of get more insights to increase the visitors?"
   ]
  },
  {
   "cell_type": "markdown",
   "metadata": {},
   "source": [
    "1.  Traffic and Weather Data\n",
    "- Incorporating real-time traffic and weather data would enable promotions based on external conditions. For example, during bad weather, offer discounted delivery services. If traffic is low in certain areas, launch flash deals to attract more visitors. Impact: Adjust strategies in real-time based on current external factors.\n",
    "\n",
    "2.  Social Media and Review Data\n",
    "- Integrating data from platforms like Google Reviews, TripAdvisor, or social media would allow us to correlate customer sentiment with visits. If we detect a positive trend in reviews, we could amplify marketing campaigns. Impact: Use customer feedback to personalize experiences and create targeted promotions.\n",
    "\n",
    "3.  Demographic and Customer Segmentation Data\n",
    "- Including demographic data (age, income, occupation) from different areas would allow for more precise campaign targeting. For instance, restaurants in areas with a younger population could partner with local events or festivals. Impact: Segment offers based on the profile of potential customers, increasing relevance.\n",
    "\n",
    "These three additional data sources (traffic, weather, social media, and demographics) would provide a smarter and more personalized approach to attracting visitors and optimizing restaurant operations."
   ]
  },
  {
   "cell_type": "markdown",
   "metadata": {},
   "source": [
    "# 🌟 **Challengue 7** 🌟\n",
    " How many channels can you think of downloading a DiDi Rides APP and how will you estimate the quality and cost of each channel?"
   ]
  },
  {
   "cell_type": "markdown",
   "metadata": {},
   "source": [
    "1.  Social Media Advertising (Facebook, Instagram)\n",
    "- This is a popular channel to reach large audiences. We can measure the cost per install (CPI) and target audiences based on interests or location.\n",
    "Cost: Medium\n",
    "Quality: High, since it allows precise targeting and personalized ads.\n",
    "\n",
    "2.  Google Ads Campaigns\n",
    "- Ads on Google (search and YouTube) can attract users interested in mobility solutions. CPI tends to be low, but quality can vary depending on keyword relevance.\n",
    "Cost: Low to medium\n",
    "Quality: Medium, depending on the user’s search intent.\n",
    "\n",
    "3.  User Referrals (Referral Program)\n",
    "- Offering incentives to current users for referring new users is an effective way to drive downloads. This channel can generate more engaged users since they come via recommendation.\n",
    "Cost: Low (incentive for referral)\n",
    "Quality: High, due to the personal recommendation from a known person.\n",
    "\n",
    "4.  Television Advertising\n",
    "- Though it comes with a high cost, television advertising allows you to reach massive audiences and generate significant brand visibility in a short amount of time. This channel can be particularly effective during product launches or national campaigns. Despite the high cost, the impact on brand awareness is considerable, although the CPI (Cost per Install) is typically much higher compared to digital channels.\n",
    "Cost: High\n",
    "Quality: Medium, since segmentation is limited and it doesn't guarantee that the audience will have the intention to download the app, but it can significantly boost brand recognition.\n",
    "\n",
    "These basic channels provide a balance between cost and quality, with clear metrics such as CPI, conversion rate, and user retention."
   ]
  },
  {
   "cell_type": "markdown",
   "metadata": {},
   "source": [
    "# 🌟 **Challengue 8** 🌟\n",
    " How many channels can you think of downloading a DiDi Rides APP and how will you estimate the quality and cost of each channel?"
   ]
  },
  {
   "cell_type": "markdown",
   "metadata": {},
   "source": [
    "Features with an Analytical Focus:\n",
    "1. Usage Frequency: Analyze the trend in the number of trips over the past weeks. The weekly change rate in trips can be a key factor in identifying decreasing patterns.\n",
    "- Analytical Metric: Percentage change in trips week over week.\n",
    "\n",
    "2. Time Since Last Trip: Evaluate the exact duration between the last trip and the present. The model can identify specific thresholds that trigger churn risk (e.g., more than 30 days of inactivity).\n",
    "- Analytical Metric: Distribution of inactivity periods and their correlation with churn.\n",
    "\n",
    "3. Trip Rating: A low rating could indicate service issues, which is a strong indicator of potential churn. Analyze ratings and associated feedback.\n",
    "- Analytical Metric: Average trip rating and standard deviation.\n",
    "\n",
    "4. Customer Service Interactions: Frequent complaints or inquiries may indicate dissatisfaction.\n",
    "- Analytical Metric: Number of customer service interactions per user and correlation with churn rate.\n",
    "\n",
    "5. Demographic Data: Factors such as age or income may influence usage patterns.\n",
    "- Analytical Metric: Demographic segmentation and its relation to churn.\n",
    "\n",
    "\n",
    "Proposed Model with Analytical Focus:\n",
    "- A Random Forest is still a strong option because of its ability to handle multiple features and find non-linear interactions. However, in this analytical context, we would focus on a deep analysis of the feature importances generated by the model. This would allow us to identify which factors carry the most weight in predicting churn and optimize preventive strategies.\n",
    "- F1-Score: A balance between precision and recall, ideal for datasets with a certain imbalance between classes."
   ]
  }
 ],
 "metadata": {
  "kernelspec": {
   "display_name": "dev",
   "language": "python",
   "name": "python3"
  },
  "language_info": {
   "codemirror_mode": {
    "name": "ipython",
    "version": 3
   },
   "file_extension": ".py",
   "mimetype": "text/x-python",
   "name": "python",
   "nbconvert_exporter": "python",
   "pygments_lexer": "ipython3",
   "version": "3.12.2"
  }
 },
 "nbformat": 4,
 "nbformat_minor": 2
}
